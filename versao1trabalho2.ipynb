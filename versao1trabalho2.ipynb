{
  "nbformat": 4,
  "nbformat_minor": 0,
  "metadata": {
    "colab": {
      "provenance": [],
      "toc_visible": true,
      "authorship_tag": "ABX9TyNCCdwwbnmuOGy681pFb+Q1",
      "include_colab_link": true
    },
    "kernelspec": {
      "name": "python3",
      "display_name": "Python 3"
    },
    "language_info": {
      "name": "python"
    }
  },
  "cells": [
    {
      "cell_type": "markdown",
      "metadata": {
        "id": "view-in-github",
        "colab_type": "text"
      },
      "source": [
        "<a href=\"https://colab.research.google.com/github/guimoll/FURB/blob/main/versao1trabalho2.ipynb\" target=\"_parent\"><img src=\"https://colab.research.google.com/assets/colab-badge.svg\" alt=\"Open In Colab\"/></a>"
      ]
    },
    {
      "cell_type": "code",
      "execution_count": 34,
      "metadata": {
        "colab": {
          "base_uri": "https://localhost:8080/"
        },
        "id": "2DF5tSuihDkA",
        "outputId": "ae5e1755-94a6-457f-f9ff-cca3b8d6872f"
      },
      "outputs": [
        {
          "output_type": "stream",
          "name": "stdout",
          "text": [
            "          imagem  contagem_nucleos\n",
            " linfocito00.png                 4\n",
            " linfocito01.png                 3\n",
            " linfocito02.png                 1\n",
            "neutrofilo00.png                 4\n",
            "neutrofilo01.png                 3\n",
            "neutrofilo02.png                 3\n",
            "neutrofilo03.png                 2\n",
            "neutrofilo04.png                 4\n",
            "neutrofilo05.png                 3\n",
            "neutrofilo06.png                 4\n",
            "neutrofilo07.png                 2\n",
            "neutrofilo08.png                 2\n",
            "neutrofilo09.png                 1\n"
          ]
        }
      ],
      "source": [
        "import cv2, numpy as np, pandas as pd\n",
        "from pathlib import Path\n",
        "\n",
        "BASE = Path(\".\")\n",
        "EXTS = [\".png\", \".jpg\", \".jpeg\"]\n",
        "\n",
        "MIN_AREA_PX_NUCLEO = 90\n",
        "KERNEL_OPEN  = (3,3)\n",
        "GAUSS_BLUR   = (5,5)\n",
        "CLAHE_CLIP   = 2.0\n",
        "CLAHE_TILE   = (8,8)\n",
        "\n",
        "# arquivos\n",
        "neutros    = [f\"neutrofilo{i:02d}\" for i in range(10)]\n",
        "linfocitos = [f\"linfocito{i:02d}\"  for i in range(3)]\n",
        "stems = neutros + linfocitos\n",
        "\n",
        "def resolve_path(stem: str):\n",
        "    for ext in EXTS:\n",
        "        p = BASE / f\"{stem}{ext}\"\n",
        "        if p.exists(): return p\n",
        "    return None\n",
        "\n",
        "def preprocess(img_bgr):\n",
        "    g = cv2.cvtColor(img_bgr, cv2.COLOR_BGR2GRAY)\n",
        "    clahe = cv2.createCLAHE(clipLimit=CLAHE_CLIP, tileGridSize=CLAHE_TILE)\n",
        "    g = clahe.apply(g)\n",
        "    g = cv2.GaussianBlur(g, GAUSS_BLUR, 0)\n",
        "    _, th = cv2.threshold(g, 0, 255, cv2.THRESH_BINARY_INV + cv2.THRESH_OTSU)\n",
        "    return th\n",
        "\n",
        "def mask_nucleos_individuais(th):\n",
        "    opened = cv2.morphologyEx(\n",
        "        th, cv2.MORPH_OPEN,\n",
        "        cv2.getStructuringElement(cv2.MORPH_ELLIPSE, KERNEL_OPEN), 1\n",
        "    )\n",
        "\n",
        "    dist = cv2.distanceTransform(opened, cv2.DIST_L2, 5)\n",
        "    _, peaks = cv2.threshold(dist, 0.45 * dist.max(), 255, cv2.THRESH_BINARY)\n",
        "    peaks = peaks.astype(np.uint8)\n",
        "\n",
        "    num_markers, markers = cv2.connectedComponents(peaks)\n",
        "    markers = markers + 1\n",
        "    markers[opened == 0] = 0\n",
        "\n",
        "    bgr = cv2.cvtColor(opened, cv2.COLOR_GRAY2BGR)\n",
        "    cv2.watershed(bgr, markers)\n",
        "\n",
        "    mask = np.zeros_like(opened, np.uint8)\n",
        "    mask[markers > 1] = 255\n",
        "    return mask\n",
        "\n",
        "def contar_componentes(mask, min_area):\n",
        "    num, labels, stats, _ = cv2.connectedComponentsWithStats(mask, connectivity=8)\n",
        "    count = 0\n",
        "    for lab in range(1, num):\n",
        "        if stats[lab, cv2.CC_STAT_AREA] >= min_area:\n",
        "            count += 1\n",
        "    return count\n",
        "\n",
        "rows = []\n",
        "for stem in stems:\n",
        "    p = resolve_path(stem)\n",
        "    if p is None:\n",
        "        continue\n",
        "    img = cv2.imread(str(p))\n",
        "    if img is None:\n",
        "        continue\n",
        "\n",
        "    th = preprocess(img)\n",
        "    mask = mask_nucleos_individuais(th)\n",
        "    cnt  = contar_componentes(mask, MIN_AREA_PX_NUCLEO)\n",
        "    rows.append({\"imagem\": p.name, \"contagem_nucleos\": int(cnt)})\n",
        "\n",
        "df = pd.DataFrame(rows).sort_values(\"imagem\").reset_index(drop=True)\n",
        "print(df.to_string(index=False))\n"
      ]
    }
  ]
}